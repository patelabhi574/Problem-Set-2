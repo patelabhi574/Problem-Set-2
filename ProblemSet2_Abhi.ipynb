{
 "cells": [
  {
   "cell_type": "code",
   "execution_count": 28,
   "id": "0c24a830",
   "metadata": {},
   "outputs": [
    {
     "name": "stdout",
     "output_type": "stream",
     "text": [
      "0\n"
     ]
    }
   ],
   "source": [
    "# initialize global variable a to 0\n",
    "a = 0\n",
    "\n",
    "# define function b\n",
    "def b(a):\n",
    "    # declare that the function is using the global variable a: global a\n",
    "    # update a by calling function c with a as argument\n",
    "    a = c(a)\n",
    "\n",
    "# define function c\n",
    "def c(a):\n",
    "    # return a plus 2\n",
    "    return a + 2\n",
    "\n",
    "# call function b three times, which updates the value of a each time\n",
    "b(a)\n",
    "b(a)\n",
    "b(a)\n",
    "\n",
    "# print the final value of a, which should be 6\n",
    "print(a)"
   ]
  },
  {
   "cell_type": "code",
   "execution_count": 15,
   "id": "9d6e6953",
   "metadata": {},
   "outputs": [
    {
     "name": "stdout",
     "output_type": "stream",
     "text": [
      "5345\n"
     ]
    }
   ],
   "source": [
    "def fileLength(filename):\n",
    "    try:\n",
    "        infile = open(filename, 'r')\n",
    "        content = infile.read()\n",
    "        infile.close()\n",
    "        return len(content)\n",
    "    except FileNotFoundError:\n",
    "        print(\"File {} not found.\".format(filename))\n",
    "    except:\n",
    "        print(\"Error reading file {}.\".format(filename))\n",
    "\n",
    "filename = 'C:\\\\Users\\\\patel\\\\Downloads\\\\words.txt.txt'\n",
    "print(fileLength(filename))\n",
    "        "
   ]
  },
  {
   "cell_type": "code",
   "execution_count": 3,
   "id": "18c65315",
   "metadata": {},
   "outputs": [
    {
     "name": "stdout",
     "output_type": "stream",
     "text": [
      "I am a Kangaroo located at coordinates (0, 0)\n",
      "['doll', 'firetruck', 'kitten']\n",
      "I am a Kangaroo located at coordinates (3, 0)\n"
     ]
    }
   ],
   "source": [
    "class Marsupial:\n",
    "    def __init__(self):\n",
    "        self.pouch = []\n",
    "    \n",
    "    def put_in_pouch(self, item):\n",
    "        self.pouch.append(item)\n",
    "    \n",
    "    def pouch_contents(self):\n",
    "        return self.pouch\n",
    "\n",
    "\n",
    "class Kangaroo(Marsupial):\n",
    "    def __init__(self, x, y):\n",
    "        Marsupial.__init__(self)\n",
    "        self.x = x\n",
    "        self.y = y\n",
    "    \n",
    "    def jump(self, dx, dy):\n",
    "        self.x += dx\n",
    "        self.y += dy\n",
    "    \n",
    "    def __str__(self):\n",
    "        return \"I am a Kangaroo located at coordinates ({}, {})\".format(self.x, self.y)\n",
    "\n",
    "k = Kangaroo(0,0)\n",
    "print(k)\n",
    "k.put_in_pouch('doll')\n",
    "k.put_in_pouch('firetruck')\n",
    "k.put_in_pouch('kitten')\n",
    "print(k.pouch_contents())\n",
    "k.jump(1,0)\n",
    "k.jump(1,0)\n",
    "k.jump(1,0)\n",
    "print(k)\n"
   ]
  },
  {
   "cell_type": "code",
   "execution_count": 5,
   "id": "51315a15",
   "metadata": {},
   "outputs": [
    {
     "name": "stdout",
     "output_type": "stream",
     "text": [
      "1\n",
      "10\n",
      "5\n",
      "16\n",
      "8\n",
      "4\n",
      "2\n",
      "1\n"
     ]
    }
   ],
   "source": [
    "def collatz(x):\n",
    "    print(x)\n",
    "    if x == 1:\n",
    "        return\n",
    "    elif x % 2 == 0:\n",
    "        collatz(x // 2)\n",
    "    else:\n",
    "        collatz(3 * x + 1)\n",
    "\n",
    "collatz(1)\n",
    "collatz(10)"
   ]
  },
  {
   "cell_type": "code",
   "execution_count": 17,
   "id": "030af813",
   "metadata": {},
   "outputs": [],
   "source": [
    "from html.parser import HTMLParser\n",
    "\n",
    "class HeadingParser(HTMLParser):\n",
    "    def __init__(self):\n",
    "        super().__init__()\n",
    "        self.head_val = 0\n",
    "    \n",
    "    def handle_starttag(self, tag, attrs):\n",
    "        # print(tag)\n",
    "        if tag.startswith('html') or tag.startswith('head'):\n",
    "            pass;\n",
    "        elif tag.startswith('h'):\n",
    "            self.head_val = int(tag[1])\n",
    "    \n",
    "    def handle_data(self, data):\n",
    "        if self.head_val:\n",
    "            print(' ' * (self.head_val - 1) + data)\n",
    "            self.head_val = 0"
   ]
  },
  {
   "cell_type": "code",
   "execution_count": 18,
   "id": "9b5c84de",
   "metadata": {},
   "outputs": [
    {
     "name": "stdout",
     "output_type": "stream",
     "text": [
      "W3C Mission\n",
      " Principles\n"
     ]
    }
   ],
   "source": [
    "with open('w3c.html') as infile:\n",
    "    content = infile.read()\n",
    "    hp = HeadingParser()\n",
    "    hp.feed(content)"
   ]
  },
  {
   "cell_type": "code",
   "execution_count": 9,
   "id": "308f703e",
   "metadata": {},
   "outputs": [
    {
     "data": {
      "text/plain": [
       "<sqlite3.Cursor at 0x1c64784a7c0>"
      ]
     },
     "execution_count": 9,
     "metadata": {},
     "output_type": "execute_result"
    }
   ],
   "source": [
    "import sqlite3\n",
    "\n",
    "conn = sqlite3.connect('example.db')\n",
    "\n",
    "cur = conn.cursor()\n",
    "\n",
    "cur.execute('''CREATE TABLE IF NOT EXISTS rainfall_temp_data (\n",
    "                id INTEGER PRIMARY KEY,\n",
    "                city TEXT,\n",
    "                country TEXT,\n",
    "                season TEXT, \n",
    "                temperature REAL,\n",
    "                rainfall REAL)''')\n",
    "\n",
    "# insert some data into the table\n",
    "cur.execute(\"INSERT INTO rainfall_temp_data (id, city, country, season, temperature, rainfall) VALUES (?, ?, ?, ?, ?, ?)\", (1, 'Mumbai', 'India', 'Winter', 24.8, 5.9))\n",
    "cur.execute(\"INSERT INTO rainfall_temp_data (id, city, country, season, temperature, rainfall) VALUES (?, ?, ?, ?, ?, ?)\", (2, 'Mumbai', 'India', 'Spring', 28.4, 16.2))\n",
    "cur.execute(\"INSERT INTO rainfall_temp_data (id, city, country, season, temperature, rainfall) VALUES (?, ?, ?, ?, ?, ?)\", (3, 'Mumbai', 'India', 'Summer', 27.9, 1549.4))\n",
    "cur.execute(\"INSERT INTO rainfall_temp_data (id, city, country, season, temperature, rainfall) VALUES (?, ?, ?, ?, ?, ?)\", (4, 'Mumbai', 'India', 'Fall', 27.6, 346.0))\n",
    "cur.execute(\"INSERT INTO rainfall_temp_data (id, city, country, season, temperature, rainfall) VALUES (?, ?, ?, ?, ?, ?)\", (5, 'London', 'United Kingdom', 'Winter', 4.2, 207.7))\n",
    "cur.execute(\"INSERT INTO rainfall_temp_data (id, city, country, season, temperature, rainfall) VALUES (?, ?, ?, ?, ?, ?)\", (6, 'London', 'United Kingdom', 'Spring', 8.3, 169.6))\n",
    "cur.execute(\"INSERT INTO rainfall_temp_data (id, city, country, season, temperature, rainfall) VALUES (?, ?, ?, ?, ?, ?)\", (7, 'London', 'United Kingdom', 'Summer', 15.7, 157.0))\n",
    "cur.execute(\"INSERT INTO rainfall_temp_data (id, city, country, season, temperature, rainfall) VALUES (?, ?, ?, ?, ?, ?)\", (8, 'London', 'United Kingdom', 'Fall', 10.4, 218.5))\n",
    "cur.execute(\"INSERT INTO rainfall_temp_data (id, city, country, season, temperature, rainfall) VALUES (?, ?, ?, ?, ?, ?)\", (9, 'Cairo', 'Egypt', 'Winter', 13.6, 16.5))\n",
    "cur.execute(\"INSERT INTO rainfall_temp_data (id, city, country, season, temperature, rainfall) VALUES (?, ?, ?, ?, ?, ?)\", (10, 'Cairo', 'Egypt', 'Spring', 20.7, 6.5))\n",
    "cur.execute(\"INSERT INTO rainfall_temp_data (id, city, country, season, temperature, rainfall) VALUES (?, ?, ?, ?, ?, ?)\", (11, 'Cairo', 'Egypt', 'Summer', 27.7, 0.1))\n",
    "cur.execute(\"INSERT INTO rainfall_temp_data (id, city, country, season, temperature, rainfall) VALUES (?, ?, ?, ?, ?, ?)\", (12, 'Cairo', 'Egypt', 'Fall', 22.2, 4.5))"
   ]
  },
  {
   "cell_type": "code",
   "execution_count": 10,
   "id": "83af3a5d",
   "metadata": {},
   "outputs": [
    {
     "name": "stdout",
     "output_type": "stream",
     "text": [
      "[(24.8,), (28.4,), (27.9,), (27.6,), (4.2,), (8.3,), (15.7,), (10.4,), (13.6,), (20.7,), (27.7,), (22.2,)]\n"
     ]
    }
   ],
   "source": [
    "cur.execute('SELECT Temperature FROM rainfall_temp_data')\n",
    "result_a = cur.fetchall()\n",
    "print(result_a)"
   ]
  },
  {
   "cell_type": "code",
   "execution_count": 11,
   "id": "661b596e",
   "metadata": {},
   "outputs": [
    {
     "name": "stdout",
     "output_type": "stream",
     "text": [
      "[('Mumbai',), ('London',), ('Cairo',)]\n"
     ]
    }
   ],
   "source": [
    "cur.execute('SELECT DISTINCT city FROM rainfall_temp_data')\n",
    "result_b = cur.fetchall()\n",
    "print(result_b)"
   ]
  },
  {
   "cell_type": "code",
   "execution_count": 12,
   "id": "42b7a09f",
   "metadata": {},
   "outputs": [
    {
     "name": "stdout",
     "output_type": "stream",
     "text": [
      "[(1, 'Mumbai', 'India', 'Winter', 24.8, 5.9), (2, 'Mumbai', 'India', 'Spring', 28.4, 16.2), (3, 'Mumbai', 'India', 'Summer', 27.9, 1549.4), (4, 'Mumbai', 'India', 'Fall', 27.6, 346.0)]\n"
     ]
    }
   ],
   "source": [
    "cur.execute(\"SELECT * FROM rainfall_temp_data WHERE country = 'India'\")\n",
    "result_c = cur.fetchall()\n",
    "print(result_c)"
   ]
  },
  {
   "cell_type": "code",
   "execution_count": 13,
   "id": "6b7e61ae",
   "metadata": {},
   "outputs": [
    {
     "name": "stdout",
     "output_type": "stream",
     "text": [
      "[(4, 'Mumbai', 'India', 'Fall', 27.6, 346.0), (8, 'London', 'United Kingdom', 'Fall', 10.4, 218.5), (12, 'Cairo', 'Egypt', 'Fall', 22.2, 4.5)]\n"
     ]
    }
   ],
   "source": [
    "cur.execute(\"SELECT * FROM rainfall_temp_data WHERE season = 'Fall'\")\n",
    "result_d = cur.fetchall()\n",
    "print(result_d)"
   ]
  },
  {
   "cell_type": "code",
   "execution_count": 14,
   "id": "30bb0285",
   "metadata": {},
   "outputs": [
    {
     "name": "stdout",
     "output_type": "stream",
     "text": [
      "[('Mumbai', 'India', 'Fall'), ('London', 'United Kingdom', 'Winter'), ('London', 'United Kingdom', 'Fall')]\n"
     ]
    }
   ],
   "source": [
    "cur.execute('SELECT City, Country, Season FROM rainfall_temp_data WHERE Rainfall BETWEEN 200 AND 400')\n",
    "result_e = cur.fetchall()\n",
    "print(result_e)"
   ]
  },
  {
   "cell_type": "code",
   "execution_count": 15,
   "id": "db8440f7",
   "metadata": {},
   "outputs": [
    {
     "name": "stdout",
     "output_type": "stream",
     "text": [
      "[('Cairo', 'Egypt'), ('Mumbai', 'India')]\n"
     ]
    }
   ],
   "source": [
    "cur.execute('SELECT City, Country FROM rainfall_temp_data WHERE Season = \"Fall\" AND Temperature > 20 ORDER BY Temperature ASC')\n",
    "result_f = cur.fetchall()\n",
    "print(result_f)"
   ]
  },
  {
   "cell_type": "code",
   "execution_count": 16,
   "id": "f89eadbd",
   "metadata": {},
   "outputs": [
    {
     "name": "stdout",
     "output_type": "stream",
     "text": [
      "[(27.6,)]\n"
     ]
    }
   ],
   "source": [
    "cur.execute('SELECT SUM(Rainfall) AS TotalRainfall FROM rainfall_temp_data WHERE City = \"Cairo\"')\n",
    "result_g = cur.fetchall()\n",
    "print(result_g)"
   ]
  },
  {
   "cell_type": "code",
   "execution_count": 17,
   "id": "80a2fc8f",
   "metadata": {},
   "outputs": [
    {
     "name": "stdout",
     "output_type": "stream",
     "text": [
      "[('Fall', 569.0), ('Spring', 192.29999999999998), ('Summer', 1706.5), ('Winter', 230.1)]\n"
     ]
    }
   ],
   "source": [
    "cur.execute('SELECT Season, SUM(Rainfall) AS TotalRainfall FROM rainfall_temp_data GROUP BY Season')\n",
    "result_h = cur.fetchall()\n",
    "print(result_h)"
   ]
  },
  {
   "cell_type": "code",
   "execution_count": 18,
   "id": "1d7d3c5a",
   "metadata": {},
   "outputs": [],
   "source": [
    "conn.close()"
   ]
  },
  {
   "cell_type": "code",
   "execution_count": 19,
   "id": "d6ee8ada",
   "metadata": {},
   "outputs": [],
   "source": [
    "words = ['The', 'quick', 'brown', 'fox', 'jumps', 'over', \n",
    "'the', 'lazy', 'dog']"
   ]
  },
  {
   "cell_type": "code",
   "execution_count": 20,
   "id": "b38ef296",
   "metadata": {},
   "outputs": [
    {
     "name": "stdout",
     "output_type": "stream",
     "text": [
      "['The', 'quick', 'brown', 'fox', 'jumps', 'over', 'the', 'lazy', 'dog']\n"
     ]
    }
   ],
   "source": [
    "print(words)"
   ]
  },
  {
   "cell_type": "code",
   "execution_count": 21,
   "id": "351e1a3a",
   "metadata": {},
   "outputs": [
    {
     "name": "stdout",
     "output_type": "stream",
     "text": [
      "['THE', 'QUICK', 'BROWN', 'FOX', 'JUMPS', 'OVER', 'THE', 'LAZY', 'DOG']\n"
     ]
    }
   ],
   "source": [
    "words_a = [word.upper() for word in words]\n",
    "print(words_a)"
   ]
  },
  {
   "cell_type": "code",
   "execution_count": 22,
   "id": "81ea4855",
   "metadata": {},
   "outputs": [
    {
     "name": "stdout",
     "output_type": "stream",
     "text": [
      "['the', 'quick', 'brown', 'fox', 'jumps', 'over', 'the', 'lazy', 'dog']\n"
     ]
    }
   ],
   "source": [
    "words_b = [word.lower() for word in words]\n",
    "print(words_b)"
   ]
  },
  {
   "cell_type": "code",
   "execution_count": 23,
   "id": "9f1be433",
   "metadata": {},
   "outputs": [
    {
     "name": "stdout",
     "output_type": "stream",
     "text": [
      "[3, 5, 5, 3, 5, 4, 3, 4, 3]\n"
     ]
    }
   ],
   "source": [
    "words_c = [len(word) for word in words]\n",
    "print(words_c)"
   ]
  },
  {
   "cell_type": "code",
   "execution_count": 24,
   "id": "bf165b19",
   "metadata": {},
   "outputs": [
    {
     "name": "stdout",
     "output_type": "stream",
     "text": [
      "[['THE', 'the', 3], ['QUICK', 'quick', 5], ['BROWN', 'brown', 5], ['FOX', 'fox', 3], ['JUMPS', 'jumps', 5], ['OVER', 'over', 4], ['THE', 'the', 3], ['LAZY', 'lazy', 4], ['DOG', 'dog', 3]]\n"
     ]
    }
   ],
   "source": [
    "words_d = [[word.upper(), word.lower(), len(word)] for word in words]\n",
    "print(words_d)"
   ]
  },
  {
   "cell_type": "code",
   "execution_count": 25,
   "id": "148e4d0f",
   "metadata": {},
   "outputs": [
    {
     "name": "stdout",
     "output_type": "stream",
     "text": [
      "['quick', 'brown', 'jumps', 'over', 'lazy']\n"
     ]
    }
   ],
   "source": [
    "words_e = [word for word in words if len(word) >= 4]\n",
    "print(words_e)"
   ]
  },
  {
   "cell_type": "code",
   "execution_count": null,
   "id": "6ed5ee4c",
   "metadata": {},
   "outputs": [],
   "source": []
  }
 ],
 "metadata": {
  "kernelspec": {
   "display_name": "Python 3 (ipykernel)",
   "language": "python",
   "name": "python3"
  },
  "language_info": {
   "codemirror_mode": {
    "name": "ipython",
    "version": 3
   },
   "file_extension": ".py",
   "mimetype": "text/x-python",
   "name": "python",
   "nbconvert_exporter": "python",
   "pygments_lexer": "ipython3",
   "version": "3.11.1"
  }
 },
 "nbformat": 4,
 "nbformat_minor": 5
}
